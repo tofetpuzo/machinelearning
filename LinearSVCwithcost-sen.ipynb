{
 "cells": [
  {
   "cell_type": "code",
   "execution_count": null,
   "metadata": {},
   "outputs": [],
   "source": [
    "!pip install imblearn"
   ]
  },
  {
   "cell_type": "code",
   "execution_count": null,
   "metadata": {},
   "outputs": [],
   "source": [
    "# import all the dependencies \n",
    "import pandas as pd\n",
    "import numpy as np\n",
    "%matplotlib inline\n",
    "\n",
    "# plot appears inside the notebook\n",
    "import matplotlib.pyplot as plt\n",
    "\n",
    "# import Models from Sckit-Learn \n",
    "from sklearn.svm import LinearSVC\n",
    "\n",
    "# Model Evaluation\n",
    "from sklearn.model_selection import train_test_split, cross_val_score\n",
    "from sklearn.model_selection import RandomizedSearchCV, GridSearchCV\n",
    "from sklearn.metrics import confusion_matrix, classification_report\n",
    "from sklearn.metrics import plot_roc_curve\n",
    "from sklearn.pipeline import make_pipeline\n",
    "from imblearn.over_sampling import (SMOTE, BorderlineSMOTE)\n",
    "from imblearn.over_sampling import RandomOverSampler"
   ]
  },
  {
   "cell_type": "code",
   "execution_count": null,
   "metadata": {},
   "outputs": [],
   "source": [
    "lucene = pd.read_excel(\"lucene.xlsx\")\n",
    "lucene"
   ]
  },
  {
   "cell_type": "code",
   "execution_count": null,
   "metadata": {},
   "outputs": [],
   "source": [
    "luc_X = lucene.drop(columns=[\"name.1\",\"name\",\"version\",\"bug\"] ,axis=1)\n",
    "# Xtrain = luc_X.iloc[:, :-1].values\n",
    "# Xtrain\n",
    "Xtrain = luc_X\n",
    "Xtrain"
   ]
  },
  {
   "cell_type": "code",
   "execution_count": null,
   "metadata": {},
   "outputs": [],
   "source": [
    "# turning the dataset to an array\n",
    "luc_y = lucene[\"bug\"]\n",
    "a = luc_y.value_counts()/len(lucene2)\n",
    "ytrain = luc_y\n",
    "# a\n",
    "\n"
   ]
  },
  {
   "cell_type": "code",
   "execution_count": null,
   "metadata": {},
   "outputs": [],
   "source": [
    "lucene2 = pd.read_excel(\"lunce_2.xls\")\n",
    "lucene2"
   ]
  },
  {
   "cell_type": "code",
   "execution_count": null,
   "metadata": {},
   "outputs": [],
   "source": [
    "# this is the X DATA for lucence2.2\n",
    "lucX = lucene2.drop(columns=[\"name33\",\"name\",\"version\",\"bug\"] ,axis=1)\n",
    "lucX"
   ]
  },
  {
   "cell_type": "code",
   "execution_count": null,
   "metadata": {},
   "outputs": [],
   "source": [
    "Xtest = lucX\n",
    "Xtest"
   ]
  },
  {
   "cell_type": "code",
   "execution_count": null,
   "metadata": {},
   "outputs": [],
   "source": [
    "# turning the dataset to an array\n",
    "lucy = lucene2[\"bug\"]\n",
    "# a = lucy.iloc[:].values\n",
    "# ytest = a\n",
    "ytest = lucy\n",
    "ytest"
   ]
  }
 ],
 "metadata": {
  "kernelspec": {
   "display_name": "Python 3",
   "language": "python",
   "name": "python3"
  },
  "language_info": {
   "codemirror_mode": {
    "name": "ipython",
    "version": 3
   },
   "file_extension": ".py",
   "mimetype": "text/x-python",
   "name": "python",
   "nbconvert_exporter": "python",
   "pygments_lexer": "ipython3",
   "version": "3.8.5"
  }
 },
 "nbformat": 4,
 "nbformat_minor": 4
}
